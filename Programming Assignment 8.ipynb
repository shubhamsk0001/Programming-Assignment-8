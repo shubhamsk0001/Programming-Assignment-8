{
 "cells": [
  {
   "cell_type": "code",
   "execution_count": null,
   "id": "21d103e9",
   "metadata": {},
   "outputs": [],
   "source": [
    "1. Write a Python Program to Add Two Matrices?"
   ]
  },
  {
   "cell_type": "code",
   "execution_count": 6,
   "id": "c94b7276",
   "metadata": {},
   "outputs": [
    {
     "name": "stdout",
     "output_type": "stream",
     "text": [
      "[17, 15, 4]\n",
      "[10, 12, 9]\n",
      "[11, 13, 18]\n"
     ]
    }
   ],
   "source": [
    "X = [[12,7,3],\n",
    "    [4 ,5,6],\n",
    "    [7 ,8,9]]\n",
    "\n",
    "Y = [[5,8,1],\n",
    "    [6,7,3],\n",
    "    [4,5,9]]\n",
    "\n",
    "result = [[0,0,0],\n",
    "         [0,0,0],\n",
    "         [0,0,0]]\n",
    "\n",
    "for i in range(len(X)):\n",
    "    for j in range(len(X)):\n",
    "        result[i][j] = X[i][j] + Y[i][j]\n",
    "\n",
    "for r in result:\n",
    "    print(r)"
   ]
  },
  {
   "cell_type": "code",
   "execution_count": null,
   "id": "a0d38201",
   "metadata": {},
   "outputs": [],
   "source": [
    "2. Write a Python Program to Multiply Two Matrices?"
   ]
  },
  {
   "cell_type": "code",
   "execution_count": 9,
   "id": "8d525825",
   "metadata": {},
   "outputs": [
    {
     "name": "stdout",
     "output_type": "stream",
     "text": [
      "[114, 160, 60, 27]\n",
      "[74, 97, 73, 14]\n",
      "[119, 157, 112, 23]\n"
     ]
    }
   ],
   "source": [
    "X = [[12,7,3],\n",
    "    [4 ,5,6],\n",
    "    [7 ,8,9]]\n",
    "\n",
    "Y = [[5,8,1,2],\n",
    "    [6,7,3,0],\n",
    "    [4,5,9,1]]\n",
    "\n",
    "result = [[0,0,0,0],\n",
    "         [0,0,0,0],\n",
    "         [0,0,0,0]]\n",
    "\n",
    "for i in range(len(X)):\n",
    "    for j in range(len(Y[0])):\n",
    "        for k in range(len(Y)):\n",
    "            result[i][j] += X[i][k] * Y[k][j]\n",
    "\n",
    "for r in result:\n",
    "    print(r)"
   ]
  },
  {
   "cell_type": "code",
   "execution_count": null,
   "id": "e39ecdc7",
   "metadata": {},
   "outputs": [],
   "source": [
    "3. Write a Python Program to Transpose a Matrix?"
   ]
  },
  {
   "cell_type": "code",
   "execution_count": 12,
   "id": "682b3f95",
   "metadata": {},
   "outputs": [
    {
     "name": "stdout",
     "output_type": "stream",
     "text": [
      "[12, 4, 3]\n",
      "[7, 5, 8]\n"
     ]
    }
   ],
   "source": [
    "X = [[12,7],\n",
    "    [4 ,5],\n",
    "    [3 ,8]]\n",
    "\n",
    "result = [[0,0,0],\n",
    "         [0,0,0]]\n",
    "\n",
    "for i in range(len(X)):\n",
    "    for j in range(len(X[0])):\n",
    "        result[j][i] = X[i][j]\n",
    "\n",
    "for r in result:\n",
    "    print(r)"
   ]
  },
  {
   "cell_type": "code",
   "execution_count": null,
   "id": "c0cdb4f4",
   "metadata": {},
   "outputs": [],
   "source": [
    "4. Write a Python Program to Sort Words in Alphabetic Order?"
   ]
  },
  {
   "cell_type": "code",
   "execution_count": 13,
   "id": "0519090d",
   "metadata": {},
   "outputs": [
    {
     "name": "stdout",
     "output_type": "stream",
     "text": [
      "Enter a string: Hello this is my sorted program\n",
      "The sorted words are:\n",
      "hello\n",
      "is\n",
      "my\n",
      "program\n",
      "sorted\n",
      "this\n"
     ]
    }
   ],
   "source": [
    "my_str = input(\"Enter a string: \")\n",
    "words = [word.lower() for word in my_str.split()]\n",
    "words.sort()\n",
    "print(\"The sorted words are:\")\n",
    "for word in words:\n",
    "    print(word)"
   ]
  },
  {
   "cell_type": "code",
   "execution_count": null,
   "id": "ff16aede",
   "metadata": {},
   "outputs": [],
   "source": [
    "5. Write a Python Program to Remove Punctuation From a String?"
   ]
  },
  {
   "cell_type": "code",
   "execution_count": 14,
   "id": "294db921",
   "metadata": {},
   "outputs": [
    {
     "name": "stdout",
     "output_type": "stream",
     "text": [
      "Enter a string \"Hello!!!, he said ---and went.\"\n",
      " Hello he said and went\n"
     ]
    }
   ],
   "source": [
    "# define punctuation\n",
    "punctuations = '''!()-[]{};:'\"\\,<>./?@#$%^&*_~'''\n",
    "\n",
    "my_str = input(\"Enter a string\")\n",
    "\n",
    "no_punct = \"\"\n",
    "for char in my_str:\n",
    "   if char not in punctuations:\n",
    "       no_punct = no_punct + char\n",
    "        \n",
    "print(no_punct)"
   ]
  }
 ],
 "metadata": {
  "kernelspec": {
   "display_name": "Python 3 (ipykernel)",
   "language": "python",
   "name": "python3"
  },
  "language_info": {
   "codemirror_mode": {
    "name": "ipython",
    "version": 3
   },
   "file_extension": ".py",
   "mimetype": "text/x-python",
   "name": "python",
   "nbconvert_exporter": "python",
   "pygments_lexer": "ipython3",
   "version": "3.9.12"
  }
 },
 "nbformat": 4,
 "nbformat_minor": 5
}
